{
 "cells": [
  {
   "cell_type": "code",
   "execution_count": null,
   "metadata": {},
   "outputs": [
    {
     "ename": "",
     "evalue": "",
     "output_type": "error",
     "traceback": [
      "\u001b[1;31mThe kernel failed to start as the Python Environment '.conda (Python 3.1.-1)' is no longer available. Consider selecting another kernel or refreshing the list of Python Environments."
     ]
    }
   ],
   "source": [
    "# Generate mock data for 100 students with real names and 4 ranked choices for each session\n",
    "students_data = {\n",
    "    'student_id': range(1, 101),\n",
    "    'name': np.random.choice(\n",
    "        ['Alice', 'Bob', 'Charlie', 'David', 'Eve', 'Frank', 'Grace', 'Hannah', 'Ivy', 'Jack',\n",
    "         'Kara', 'Liam', 'Mia', 'Nina', 'Oscar', 'Paul', 'Quinn', 'Rachel', 'Sam', 'Tina',\n",
    "         'Uma', 'Victor', 'Wendy', 'Xander', 'Yara', 'Zach', 'Bella', 'Chris', 'Diana', 'Ethan',\n",
    "         'Fiona', 'George', 'Holly', 'Ian', 'Jill', 'Kyle', 'Laura', 'Matt', 'Nate', 'Olivia',\n",
    "         'Pete', 'Queen', 'Ryan', 'Sara', 'Tom', 'Ursula', 'Vince', 'Will', 'Xena', 'Yvonne',\n",
    "         'Zane', 'Alyssa', 'Brian', 'Cathy', 'Derek', 'Emma', 'Felix', 'Gloria', 'Harry', 'Iris',\n",
    "         'Jake', 'Kelly', 'Leo', 'Mona', 'Nick', 'Owen', 'Piper', 'Quentin', 'Rose', 'Steve', \n",
    "         'Tara', 'Ulysses', 'Violet', 'Wade', 'Ximena', 'Yusuf', 'Zelda', 'Amber', 'Brad', 'Cindy', \n",
    "         'Dean', 'Ella', 'Franklin', 'Gina', 'Hector', 'Isla', 'Jon', 'Kate', 'Louis', 'Maggie', \n",
    "         'Nolan', 'Opal', 'Paula', 'Quincy', 'Rob', 'Sophie', 'Trent', 'Uriah', 'Vera', 'Winston'],\n",
    "        size=100, replace=False),\n",
    "    'grade': np.random.randint(1, 9, size=100)\n",
    "}\n",
    "\n",
    "# Define the periods\n",
    "periods = ['Monday AM', 'Monday PM', 'Tuesday AM', 'Tuesday PM', 'Wednesday AM', 'Wednesday PM', 'Thursday AM', 'Thursday PM', 'Friday AM', 'Friday PM']\n",
    "\n",
    "# Add 4 ranked choices for each period\n",
    "for period in periods:\n",
    "    for choice in range(1, 5):\n",
    "        students_data[f'choice{choice}_{period.replace(\" \", \"_\").lower()}'] = np.random.randint(1, 21, size=100)\n",
    "\n",
    "students_df = pd.DataFrame(students_data)\n",
    "\n",
    "# Generate mock data for 20 activities with real names and sessions\n",
    "activity_names = [\n",
    "    'Art', 'Science', 'Math Games', 'Robotics', 'Music', 'Sports', \n",
    "    'Painting', 'Cooking', 'Reading', 'Drama', 'Chess', 'Football', \n",
    "    'Rock Climbing', 'Dance', 'Photography', 'Coding', 'Gardening', 'Writing', \n",
    "    'Astronomy', 'Yoga'\n",
    "]\n",
    "\n",
    "activities_data = {\n",
    "    'activity_id': range(1, 21),\n",
    "    'name': activity_names,\n",
    "    'min_grade': np.random.randint(1, 5, size=20),\n",
    "    'max_grade': np.random.randint(4, 9, size=20),\n",
    "    'max_capacity': np.random.randint(5, 15, size=20),\n",
    "    'sessions': np.random.randint(1, 5, size=20),\n",
    "    'available_sessions': [\",\".join(np.random.choice(periods, size=np.random.randint(1, 6), replace=False)) for _ in range(20)]\n",
    "}\n",
    "\n",
    "activities_df = pd.DataFrame(activities_data)\n",
    "\n",
    "# Generate mock data for 30 conflicts\n",
    "conflicts_data = {\n",
    "    'student_id1': np.random.randint(1, 101, size=30),\n",
    "    'student_id2': np.random.randint(1, 101, size=30),\n",
    "}\n",
    "\n",
    "# Ensure no self-conflicts\n",
    "conflicts_df = pd.DataFrame(conflicts_data)\n",
    "conflicts_df = conflicts_df[conflicts_df['student_id1'] != conflicts_df['student_id2']]\n",
    "\n",
    "# Generate mock data for group conflicts\n",
    "group_conflicts_data = {\n",
    "    'group_id': np.repeat(range(1, 11), 4),\n",
    "    'student_id': np.random.randint(1, 101, size=40)\n",
    "}\n",
    "group_conflicts_df = pd.DataFrame(group_conflicts_data)\n",
    "\n",
    "# Save data to CSV\n",
    "students_df.to_csv('/mnt/data/students.csv', index=False)\n",
    "activities_df.to_csv('/mnt/data/activities.csv', index=False)\n",
    "conflicts_df.to_csv('/mnt/data/conflicts.csv', index=False)\n",
    "group_conflicts_df.to_csv('/mnt/data/group_conflicts.csv', index=False)\n",
    "\n",
    "students_df.head(), activities_df.head(), conflicts_df.head(), group_conflicts_df.head()\n"
   ]
  },
  {
   "cell_type": "code",
   "execution_count": null,
   "metadata": {},
   "outputs": [],
   "source": []
  }
 ],
 "metadata": {
  "kernelspec": {
   "display_name": "Python 3",
   "language": "python",
   "name": "python3"
  },
  "language_info": {
   "name": "python",
   "version": "3.1.undefined"
  }
 },
 "nbformat": 4,
 "nbformat_minor": 2
}
